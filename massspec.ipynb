{
 "cells": [
  {
   "cell_type": "code",
   "execution_count": 2,
   "metadata": {},
   "outputs": [],
   "source": [
    "import numpy as np\n",
    "import pandas as pd\n",
    "from IPython.display import display\n",
    "\n",
    "import mhcflurry as fl\n",
    "\n",
    "from mhcflurry.downloads import get_path\n",
    "from mhcflurry import Class1AffinityPredictor\n"
   ]
  },
  {
   "cell_type": "code",
   "execution_count": 4,
   "metadata": {},
   "outputs": [
    {
     "name": "stdout",
     "output_type": "stream",
     "text": [
      "There are 525672 Peptide-Allele measured values.\n"
     ]
    }
   ],
   "source": [
    "#First load data\n",
    "\n",
    "file_name = get_path(\"data_curated\",\"curated_training_data.with_mass_spec.csv.bz2\")\n",
    "df = pd.read_csv(file_name)\n",
    "print(\"There are %d Peptide-Allele measured values.\" % df.shape[0])\n",
    " "
   ]
  },
  {
   "cell_type": "code",
   "execution_count": 5,
   "metadata": {},
   "outputs": [
    {
     "data": {
      "text/html": [
       "<div>\n",
       "<style scoped>\n",
       "    .dataframe tbody tr th:only-of-type {\n",
       "        vertical-align: middle;\n",
       "    }\n",
       "\n",
       "    .dataframe tbody tr th {\n",
       "        vertical-align: top;\n",
       "    }\n",
       "\n",
       "    .dataframe thead th {\n",
       "        text-align: right;\n",
       "    }\n",
       "</style>\n",
       "<table border=\"1\" class=\"dataframe\">\n",
       "  <thead>\n",
       "    <tr style=\"text-align: right;\">\n",
       "      <th></th>\n",
       "      <th>allele</th>\n",
       "      <th>peptide</th>\n",
       "      <th>measurement_value</th>\n",
       "      <th>measurement_inequality</th>\n",
       "      <th>measurement_type</th>\n",
       "      <th>measurement_source</th>\n",
       "      <th>original_allele</th>\n",
       "    </tr>\n",
       "  </thead>\n",
       "  <tbody>\n",
       "    <tr>\n",
       "      <th>0</th>\n",
       "      <td>BoLA-1*21:01</td>\n",
       "      <td>AENDTLVVSV</td>\n",
       "      <td>7817.0</td>\n",
       "      <td>=</td>\n",
       "      <td>quantitative</td>\n",
       "      <td>Barlow - purified MHC/competitive/fluorescence</td>\n",
       "      <td>BoLA-1*02101</td>\n",
       "    </tr>\n",
       "    <tr>\n",
       "      <th>1</th>\n",
       "      <td>BoLA-1*21:01</td>\n",
       "      <td>NQFNGGCLLV</td>\n",
       "      <td>1086.0</td>\n",
       "      <td>=</td>\n",
       "      <td>quantitative</td>\n",
       "      <td>Barlow - purified MHC/direct/fluorescence</td>\n",
       "      <td>BoLA-1*02101</td>\n",
       "    </tr>\n",
       "    <tr>\n",
       "      <th>2</th>\n",
       "      <td>BoLA-2*08:01</td>\n",
       "      <td>AAHCIHAEW</td>\n",
       "      <td>21.0</td>\n",
       "      <td>=</td>\n",
       "      <td>quantitative</td>\n",
       "      <td>Barlow - purified MHC/direct/fluorescence</td>\n",
       "      <td>BoLA-2*00801</td>\n",
       "    </tr>\n",
       "    <tr>\n",
       "      <th>3</th>\n",
       "      <td>BoLA-2*08:01</td>\n",
       "      <td>AAKHMSNTY</td>\n",
       "      <td>1299.0</td>\n",
       "      <td>=</td>\n",
       "      <td>quantitative</td>\n",
       "      <td>Barlow - purified MHC/direct/fluorescence</td>\n",
       "      <td>BoLA-2*00801</td>\n",
       "    </tr>\n",
       "    <tr>\n",
       "      <th>4</th>\n",
       "      <td>BoLA-2*08:01</td>\n",
       "      <td>DSYAYMRNGW</td>\n",
       "      <td>2.0</td>\n",
       "      <td>=</td>\n",
       "      <td>quantitative</td>\n",
       "      <td>Barlow - purified MHC/direct/fluorescence</td>\n",
       "      <td>BoLA-2*00801</td>\n",
       "    </tr>\n",
       "  </tbody>\n",
       "</table>\n",
       "</div>"
      ],
      "text/plain": [
       "         allele     peptide  measurement_value measurement_inequality  \\\n",
       "0  BoLA-1*21:01  AENDTLVVSV             7817.0                      =   \n",
       "1  BoLA-1*21:01  NQFNGGCLLV             1086.0                      =   \n",
       "2  BoLA-2*08:01   AAHCIHAEW               21.0                      =   \n",
       "3  BoLA-2*08:01   AAKHMSNTY             1299.0                      =   \n",
       "4  BoLA-2*08:01  DSYAYMRNGW                2.0                      =   \n",
       "\n",
       "  measurement_type                              measurement_source  \\\n",
       "0     quantitative  Barlow - purified MHC/competitive/fluorescence   \n",
       "1     quantitative       Barlow - purified MHC/direct/fluorescence   \n",
       "2     quantitative       Barlow - purified MHC/direct/fluorescence   \n",
       "3     quantitative       Barlow - purified MHC/direct/fluorescence   \n",
       "4     quantitative       Barlow - purified MHC/direct/fluorescence   \n",
       "\n",
       "  original_allele  \n",
       "0    BoLA-1*02101  \n",
       "1    BoLA-1*02101  \n",
       "2    BoLA-2*00801  \n",
       "3    BoLA-2*00801  \n",
       "4    BoLA-2*00801  "
      ]
     },
     "metadata": {},
     "output_type": "display_data"
    }
   ],
   "source": [
    "display(df.head())"
   ]
  },
  {
   "cell_type": "code",
   "execution_count": 15,
   "metadata": {},
   "outputs": [
    {
     "name": "stdout",
     "output_type": "stream",
     "text": [
      "There are 512577 Peptide-Allele measured values after filtering.\n",
      "There are 84 Alleles with more that 500 measured values.\n"
     ]
    }
   ],
   "source": [
    "#The algorith is designed to work with peptides from 8 to 15 aa. So filtering is needed\n",
    "df = df.loc[(df.peptide.str.len() >7) & (df.peptide.str.len() < 16)]\n",
    "print(\"There are %d Peptide-Allele measured values after filtering.\" % df.shape[0])\n",
    "\n",
    "#Make a list of Alleles and the frecuencies \n",
    "alleleList = ((pd.DataFrame(np.transpose(np.unique(df.allele, return_counts = True)))))\n",
    "alleleList.columns = ['Allele','Count']\n",
    "#Choose alleles with more that 500 measured values\n",
    "alleleList = alleleList[alleleList.Count >= 1000]\n",
    "print(\"There are %d Alleles with more that 500 measured values.\" % alleleList.shape[0])"
   ]
  },
  {
   "cell_type": "code",
   "execution_count": 7,
   "metadata": {},
   "outputs": [
    {
     "name": "stderr",
     "output_type": "stream",
     "text": [
      "Using TensorFlow backend.\n"
     ]
    },
    {
     "name": "stdout",
     "output_type": "stream",
     "text": [
      "[  900 peptides ]  Epoch   0 / 100: loss=1.74289. Min val loss (None) at epoch None\n",
      "[  900 peptides ]  Stopping at epoch  69 / 100: loss=0.0167768. Min val loss (0.015349124558269978) at epoch 48\n"
     ]
    },
    {
     "data": {
      "text/plain": [
       "0"
      ]
     },
     "metadata": {},
     "output_type": "display_data"
    },
    {
     "name": "stdout",
     "output_type": "stream",
     "text": [
      "[  900 peptides ]  Epoch   0 / 100: loss=1.80792. Min val loss (None) at epoch None\n"
     ]
    },
    {
     "data": {
      "text/plain": [
       "1"
      ]
     },
     "metadata": {},
     "output_type": "display_data"
    },
    {
     "name": "stdout",
     "output_type": "stream",
     "text": [
      "[  900 peptides ]  Epoch   0 / 100: loss=1.81058. Min val loss (None) at epoch None\n",
      "[  900 peptides ]  Stopping at epoch  79 / 100: loss=0.0440301. Min val loss (0.057714708149433136) at epoch 58\n"
     ]
    },
    {
     "data": {
      "text/plain": [
       "2"
      ]
     },
     "metadata": {},
     "output_type": "display_data"
    },
    {
     "name": "stdout",
     "output_type": "stream",
     "text": [
      "[  900 peptides ]  Epoch   0 / 100: loss=1.82473. Min val loss (None) at epoch None\n",
      "[  900 peptides ]  Stopping at epoch  57 / 100: loss=0.0436927. Min val loss (0.048435311764478683) at epoch 36\n"
     ]
    },
    {
     "data": {
      "text/plain": [
       "3"
      ]
     },
     "metadata": {},
     "output_type": "display_data"
    },
    {
     "name": "stdout",
     "output_type": "stream",
     "text": [
      "[  900 peptides ]  Epoch   0 / 100: loss=1.79861. Min val loss (None) at epoch None\n",
      "[  900 peptides ]  Stopping at epoch  75 / 100: loss=0.0322328. Min val loss (0.032395198941230774) at epoch 54\n"
     ]
    },
    {
     "data": {
      "text/plain": [
       "4"
      ]
     },
     "metadata": {},
     "output_type": "display_data"
    },
    {
     "name": "stdout",
     "output_type": "stream",
     "text": [
      "[  900 peptides ]  Epoch   0 / 100: loss=1.80809. Min val loss (None) at epoch None\n",
      "[  900 peptides ]  Stopping at epoch  54 / 100: loss=0.0484884. Min val loss (0.05758345127105713) at epoch 33\n"
     ]
    },
    {
     "data": {
      "text/plain": [
       "5"
      ]
     },
     "metadata": {},
     "output_type": "display_data"
    },
    {
     "name": "stdout",
     "output_type": "stream",
     "text": [
      "[  900 peptides ]  Epoch   0 / 100: loss=1.85325. Min val loss (None) at epoch None\n"
     ]
    },
    {
     "data": {
      "text/plain": [
       "6"
      ]
     },
     "metadata": {},
     "output_type": "display_data"
    },
    {
     "name": "stdout",
     "output_type": "stream",
     "text": [
      "[  900 peptides ]  Epoch   0 / 100: loss=1.83219. Min val loss (None) at epoch None\n",
      "[  900 peptides ]  Stopping at epoch  98 / 100: loss=0.0465075. Min val loss (0.06937084347009659) at epoch 77\n"
     ]
    },
    {
     "data": {
      "text/plain": [
       "7"
      ]
     },
     "metadata": {},
     "output_type": "display_data"
    },
    {
     "name": "stdout",
     "output_type": "stream",
     "text": [
      "[  900 peptides ]  Epoch   0 / 100: loss=1.77273. Min val loss (None) at epoch None\n",
      "[  900 peptides ]  Stopping at epoch  65 / 100: loss=0.0170255. Min val loss (0.01534095499664545) at epoch 44\n"
     ]
    },
    {
     "data": {
      "text/plain": [
       "8"
      ]
     },
     "metadata": {},
     "output_type": "display_data"
    },
    {
     "name": "stdout",
     "output_type": "stream",
     "text": [
      "[  900 peptides ]  Epoch   0 / 100: loss=1.83696. Min val loss (None) at epoch None\n",
      "[  900 peptides ]  Stopping at epoch  83 / 100: loss=0.0484325. Min val loss (0.07486601173877716) at epoch 62\n"
     ]
    },
    {
     "data": {
      "text/plain": [
       "9"
      ]
     },
     "metadata": {},
     "output_type": "display_data"
    },
    {
     "name": "stdout",
     "output_type": "stream",
     "text": [
      "[  900 peptides ]  Epoch   0 / 100: loss=1.7903. Min val loss (None) at epoch None\n",
      "[  900 peptides ]  Stopping at epoch  54 / 100: loss=0.0197504. Min val loss (0.02295522391796112) at epoch 33\n"
     ]
    },
    {
     "data": {
      "text/plain": [
       "10"
      ]
     },
     "metadata": {},
     "output_type": "display_data"
    },
    {
     "name": "stdout",
     "output_type": "stream",
     "text": [
      "[  900 peptides ]  Epoch   0 / 100: loss=1.87282. Min val loss (None) at epoch None\n"
     ]
    },
    {
     "data": {
      "text/plain": [
       "11"
      ]
     },
     "metadata": {},
     "output_type": "display_data"
    },
    {
     "name": "stdout",
     "output_type": "stream",
     "text": [
      "[  900 peptides ]  Epoch   0 / 100: loss=1.85574. Min val loss (None) at epoch None\n",
      "[  900 peptides ]  Stopping at epoch  93 / 100: loss=0.0374097. Min val loss (0.054919563233852386) at epoch 72\n"
     ]
    },
    {
     "data": {
      "text/plain": [
       "12"
      ]
     },
     "metadata": {},
     "output_type": "display_data"
    },
    {
     "name": "stdout",
     "output_type": "stream",
     "text": [
      "[  900 peptides ]  Epoch   0 / 100: loss=1.8728. Min val loss (None) at epoch None\n",
      "[  900 peptides ]  Stopping at epoch  73 / 100: loss=0.0373218. Min val loss (0.0401049368083477) at epoch 52\n"
     ]
    },
    {
     "data": {
      "text/plain": [
       "13"
      ]
     },
     "metadata": {},
     "output_type": "display_data"
    },
    {
     "name": "stdout",
     "output_type": "stream",
     "text": [
      "[  900 peptides ]  Epoch   0 / 100: loss=1.80128. Min val loss (None) at epoch None\n",
      "[  900 peptides ]  Epoch  73 / 100: loss=0.0322579. Min val loss (0.03905550390481949) at epoch 58\n",
      "[  900 peptides ]  Stopping at epoch  79 / 100: loss=0.0314227. Min val loss (0.03905550390481949) at epoch 58\n"
     ]
    },
    {
     "data": {
      "text/plain": [
       "14"
      ]
     },
     "metadata": {},
     "output_type": "display_data"
    },
    {
     "name": "stdout",
     "output_type": "stream",
     "text": [
      "[  900 peptides ]  Epoch   0 / 100: loss=1.76816. Min val loss (None) at epoch None\n",
      "[  900 peptides ]  Stopping at epoch  63 / 100: loss=0.0415487. Min val loss (0.04576600342988968) at epoch 42\n"
     ]
    },
    {
     "data": {
      "text/plain": [
       "15"
      ]
     },
     "metadata": {},
     "output_type": "display_data"
    },
    {
     "name": "stdout",
     "output_type": "stream",
     "text": [
      "[  900 peptides ]  Epoch   0 / 100: loss=1.81535. Min val loss (None) at epoch None\n"
     ]
    },
    {
     "data": {
      "text/plain": [
       "16"
      ]
     },
     "metadata": {},
     "output_type": "display_data"
    },
    {
     "name": "stdout",
     "output_type": "stream",
     "text": [
      "[  900 peptides ]  Epoch   0 / 100: loss=1.77968. Min val loss (None) at epoch None\n",
      "[  900 peptides ]  Stopping at epoch  88 / 100: loss=0.0321172. Min val loss (0.04065939411520958) at epoch 67\n"
     ]
    },
    {
     "data": {
      "text/plain": [
       "17"
      ]
     },
     "metadata": {},
     "output_type": "display_data"
    },
    {
     "name": "stdout",
     "output_type": "stream",
     "text": [
      "[  900 peptides ]  Epoch   0 / 100: loss=1.87503. Min val loss (None) at epoch None\n"
     ]
    },
    {
     "data": {
      "text/plain": [
       "18"
      ]
     },
     "metadata": {},
     "output_type": "display_data"
    },
    {
     "name": "stdout",
     "output_type": "stream",
     "text": [
      "[  900 peptides ]  Epoch   0 / 100: loss=1.82396. Min val loss (None) at epoch None\n"
     ]
    },
    {
     "data": {
      "text/plain": [
       "19"
      ]
     },
     "metadata": {},
     "output_type": "display_data"
    },
    {
     "name": "stdout",
     "output_type": "stream",
     "text": [
      "[  900 peptides ]  Epoch   0 / 100: loss=1.85178. Min val loss (None) at epoch None\n"
     ]
    },
    {
     "data": {
      "text/plain": [
       "20"
      ]
     },
     "metadata": {},
     "output_type": "display_data"
    },
    {
     "name": "stdout",
     "output_type": "stream",
     "text": [
      "[  900 peptides ]  Epoch   0 / 100: loss=1.79192. Min val loss (None) at epoch None\n",
      "[  900 peptides ]  Stopping at epoch  55 / 100: loss=0.0336053. Min val loss (0.03980488330125809) at epoch 34\n"
     ]
    },
    {
     "data": {
      "text/plain": [
       "21"
      ]
     },
     "metadata": {},
     "output_type": "display_data"
    },
    {
     "name": "stdout",
     "output_type": "stream",
     "text": [
      "[  900 peptides ]  Epoch   0 / 100: loss=1.83612. Min val loss (None) at epoch None\n",
      "[  900 peptides ]  Stopping at epoch  67 / 100: loss=0.0424512. Min val loss (0.052525319159030914) at epoch 46\n"
     ]
    },
    {
     "data": {
      "text/plain": [
       "22"
      ]
     },
     "metadata": {},
     "output_type": "display_data"
    },
    {
     "name": "stdout",
     "output_type": "stream",
     "text": [
      "[  900 peptides ]  Epoch   0 / 100: loss=1.85327. Min val loss (None) at epoch None\n",
      "[  900 peptides ]  Stopping at epoch  68 / 100: loss=0.0483424. Min val loss (0.06716795265674591) at epoch 47\n"
     ]
    },
    {
     "data": {
      "text/plain": [
       "23"
      ]
     },
     "metadata": {},
     "output_type": "display_data"
    },
    {
     "name": "stdout",
     "output_type": "stream",
     "text": [
      "[  900 peptides ]  Epoch   0 / 100: loss=1.82799. Min val loss (None) at epoch None\n",
      "[  900 peptides ]  Stopping at epoch  83 / 100: loss=0.0390665. Min val loss (0.04912123829126358) at epoch 62\n"
     ]
    },
    {
     "data": {
      "text/plain": [
       "24"
      ]
     },
     "metadata": {},
     "output_type": "display_data"
    },
    {
     "name": "stdout",
     "output_type": "stream",
     "text": [
      "[  900 peptides ]  Epoch   0 / 100: loss=1.8228. Min val loss (None) at epoch None\n",
      "[  900 peptides ]  Stopping at epoch  77 / 100: loss=0.0454886. Min val loss (0.05689745768904686) at epoch 56\n"
     ]
    },
    {
     "data": {
      "text/plain": [
       "25"
      ]
     },
     "metadata": {},
     "output_type": "display_data"
    },
    {
     "name": "stdout",
     "output_type": "stream",
     "text": [
      "[  900 peptides ]  Epoch   0 / 100: loss=1.84191. Min val loss (None) at epoch None\n"
     ]
    },
    {
     "data": {
      "text/plain": [
       "26"
      ]
     },
     "metadata": {},
     "output_type": "display_data"
    },
    {
     "name": "stdout",
     "output_type": "stream",
     "text": [
      "[  900 peptides ]  Epoch   0 / 100: loss=1.79746. Min val loss (None) at epoch None\n"
     ]
    },
    {
     "data": {
      "text/plain": [
       "27"
      ]
     },
     "metadata": {},
     "output_type": "display_data"
    },
    {
     "name": "stdout",
     "output_type": "stream",
     "text": [
      "[  900 peptides ]  Epoch   0 / 100: loss=1.79703. Min val loss (None) at epoch None\n",
      "[  900 peptides ]  Stopping at epoch  66 / 100: loss=0.0466101. Min val loss (0.05443325638771057) at epoch 45\n"
     ]
    },
    {
     "data": {
      "text/plain": [
       "28"
      ]
     },
     "metadata": {},
     "output_type": "display_data"
    },
    {
     "name": "stdout",
     "output_type": "stream",
     "text": [
      "[  900 peptides ]  Epoch   0 / 100: loss=1.81893. Min val loss (None) at epoch None\n"
     ]
    },
    {
     "data": {
      "text/plain": [
       "29"
      ]
     },
     "metadata": {},
     "output_type": "display_data"
    },
    {
     "name": "stdout",
     "output_type": "stream",
     "text": [
      "[  900 peptides ]  Epoch   0 / 100: loss=1.82693. Min val loss (None) at epoch None\n"
     ]
    },
    {
     "data": {
      "text/plain": [
       "30"
      ]
     },
     "metadata": {},
     "output_type": "display_data"
    },
    {
     "name": "stdout",
     "output_type": "stream",
     "text": [
      "[  900 peptides ]  Epoch   0 / 100: loss=1.79646. Min val loss (None) at epoch None\n",
      "[  900 peptides ]  Stopping at epoch  78 / 100: loss=0.0180194. Min val loss (0.016986548900604248) at epoch 57\n"
     ]
    },
    {
     "data": {
      "text/plain": [
       "31"
      ]
     },
     "metadata": {},
     "output_type": "display_data"
    },
    {
     "name": "stdout",
     "output_type": "stream",
     "text": [
      "[  900 peptides ]  Epoch   0 / 100: loss=1.81481. Min val loss (None) at epoch None\n",
      "[  900 peptides ]  Stopping at epoch  96 / 100: loss=0.0267855. Min val loss (0.02587701566517353) at epoch 75\n"
     ]
    },
    {
     "data": {
      "text/plain": [
       "32"
      ]
     },
     "metadata": {},
     "output_type": "display_data"
    },
    {
     "name": "stdout",
     "output_type": "stream",
     "text": [
      "[  900 peptides ]  Epoch   0 / 100: loss=1.79801. Min val loss (None) at epoch None\n",
      "[  900 peptides ]  Stopping at epoch  63 / 100: loss=0.0346232. Min val loss (0.04524041339755058) at epoch 42\n"
     ]
    },
    {
     "data": {
      "text/plain": [
       "33"
      ]
     },
     "metadata": {},
     "output_type": "display_data"
    },
    {
     "name": "stdout",
     "output_type": "stream",
     "text": [
      "[  900 peptides ]  Epoch   0 / 100: loss=1.82595. Min val loss (None) at epoch None\n",
      "[  900 peptides ]  Stopping at epoch  67 / 100: loss=0.0216581. Min val loss (0.01836906187236309) at epoch 46\n"
     ]
    },
    {
     "data": {
      "text/plain": [
       "34"
      ]
     },
     "metadata": {},
     "output_type": "display_data"
    },
    {
     "name": "stdout",
     "output_type": "stream",
     "text": [
      "[  900 peptides ]  Epoch   0 / 100: loss=1.78891. Min val loss (None) at epoch None\n",
      "[  900 peptides ]  Stopping at epoch  62 / 100: loss=0.0342179. Min val loss (0.03426274657249451) at epoch 41\n"
     ]
    },
    {
     "data": {
      "text/plain": [
       "35"
      ]
     },
     "metadata": {},
     "output_type": "display_data"
    },
    {
     "name": "stdout",
     "output_type": "stream",
     "text": [
      "[  900 peptides ]  Epoch   0 / 100: loss=1.88183. Min val loss (None) at epoch None\n",
      "[  900 peptides ]  Stopping at epoch  77 / 100: loss=0.0405542. Min val loss (0.054188914597034454) at epoch 56\n"
     ]
    },
    {
     "data": {
      "text/plain": [
       "36"
      ]
     },
     "metadata": {},
     "output_type": "display_data"
    },
    {
     "name": "stdout",
     "output_type": "stream",
     "text": [
      "[  900 peptides ]  Epoch   0 / 100: loss=1.76001. Min val loss (None) at epoch None\n",
      "[  900 peptides ]  Stopping at epoch  81 / 100: loss=0.0167926. Min val loss (0.015269000083208084) at epoch 60\n"
     ]
    },
    {
     "data": {
      "text/plain": [
       "37"
      ]
     },
     "metadata": {},
     "output_type": "display_data"
    },
    {
     "name": "stdout",
     "output_type": "stream",
     "text": [
      "[  900 peptides ]  Epoch   0 / 100: loss=1.82077. Min val loss (None) at epoch None\n",
      "[  900 peptides ]  Stopping at epoch  97 / 100: loss=0.028947. Min val loss (0.03450695425271988) at epoch 76\n"
     ]
    },
    {
     "data": {
      "text/plain": [
       "38"
      ]
     },
     "metadata": {},
     "output_type": "display_data"
    },
    {
     "name": "stdout",
     "output_type": "stream",
     "text": [
      "[  900 peptides ]  Epoch   0 / 100: loss=1.7664. Min val loss (None) at epoch None\n",
      "[  900 peptides ]  Stopping at epoch  56 / 100: loss=0.0177814. Min val loss (0.015931520611047745) at epoch 35\n"
     ]
    },
    {
     "data": {
      "text/plain": [
       "39"
      ]
     },
     "metadata": {},
     "output_type": "display_data"
    },
    {
     "name": "stdout",
     "output_type": "stream",
     "text": [
      "[  900 peptides ]  Epoch   0 / 100: loss=1.76964. Min val loss (None) at epoch None\n",
      "[  900 peptides ]  Stopping at epoch  43 / 100: loss=0.0174401. Min val loss (0.015965892001986504) at epoch 22\n"
     ]
    },
    {
     "data": {
      "text/plain": [
       "40"
      ]
     },
     "metadata": {},
     "output_type": "display_data"
    },
    {
     "name": "stdout",
     "output_type": "stream",
     "text": [
      "[  900 peptides ]  Epoch   0 / 100: loss=1.78465. Min val loss (None) at epoch None\n"
     ]
    },
    {
     "data": {
      "text/plain": [
       "41"
      ]
     },
     "metadata": {},
     "output_type": "display_data"
    },
    {
     "name": "stdout",
     "output_type": "stream",
     "text": [
      "[  900 peptides ]  Epoch   0 / 100: loss=1.79388. Min val loss (None) at epoch None\n",
      "[  900 peptides ]  Stopping at epoch  72 / 100: loss=0.0201286. Min val loss (0.017721116542816162) at epoch 51\n"
     ]
    },
    {
     "data": {
      "text/plain": [
       "42"
      ]
     },
     "metadata": {},
     "output_type": "display_data"
    },
    {
     "name": "stdout",
     "output_type": "stream",
     "text": [
      "[  900 peptides ]  Epoch   0 / 100: loss=1.76587. Min val loss (None) at epoch None\n",
      "[  900 peptides ]  Stopping at epoch  55 / 100: loss=0.0281149. Min val loss (0.028744954615831375) at epoch 34\n"
     ]
    },
    {
     "data": {
      "text/plain": [
       "43"
      ]
     },
     "metadata": {},
     "output_type": "display_data"
    },
    {
     "name": "stdout",
     "output_type": "stream",
     "text": [
      "[  900 peptides ]  Epoch   0 / 100: loss=1.78079. Min val loss (None) at epoch None\n",
      "[  900 peptides ]  Stopping at epoch  44 / 100: loss=0.0206178. Min val loss (0.015957562252879143) at epoch 23\n"
     ]
    },
    {
     "data": {
      "text/plain": [
       "44"
      ]
     },
     "metadata": {},
     "output_type": "display_data"
    },
    {
     "name": "stdout",
     "output_type": "stream",
     "text": [
      "[  900 peptides ]  Epoch   0 / 100: loss=1.77795. Min val loss (None) at epoch None\n",
      "[  900 peptides ]  Stopping at epoch  65 / 100: loss=0.0168135. Min val loss (0.015447205863893032) at epoch 44\n"
     ]
    },
    {
     "data": {
      "text/plain": [
       "45"
      ]
     },
     "metadata": {},
     "output_type": "display_data"
    },
    {
     "name": "stdout",
     "output_type": "stream",
     "text": [
      "[  900 peptides ]  Epoch   0 / 100: loss=1.76321. Min val loss (None) at epoch None\n",
      "[  900 peptides ]  Stopping at epoch  83 / 100: loss=0.016723. Min val loss (0.015294229611754417) at epoch 62\n"
     ]
    },
    {
     "data": {
      "text/plain": [
       "46"
      ]
     },
     "metadata": {},
     "output_type": "display_data"
    },
    {
     "name": "stdout",
     "output_type": "stream",
     "text": [
      "[  900 peptides ]  Epoch   0 / 100: loss=1.76717. Min val loss (None) at epoch None\n",
      "[  900 peptides ]  Stopping at epoch  79 / 100: loss=0.0178481. Min val loss (0.015233509242534637) at epoch 58\n"
     ]
    },
    {
     "data": {
      "text/plain": [
       "47"
      ]
     },
     "metadata": {},
     "output_type": "display_data"
    },
    {
     "name": "stdout",
     "output_type": "stream",
     "text": [
      "[  900 peptides ]  Epoch   0 / 100: loss=1.79242. Min val loss (None) at epoch None\n"
     ]
    },
    {
     "data": {
      "text/plain": [
       "48"
      ]
     },
     "metadata": {},
     "output_type": "display_data"
    },
    {
     "name": "stdout",
     "output_type": "stream",
     "text": [
      "[  900 peptides ]  Epoch   0 / 100: loss=1.78307. Min val loss (None) at epoch None\n",
      "[  900 peptides ]  Stopping at epoch  98 / 100: loss=0.0242694. Min val loss (0.024554146453738213) at epoch 77\n"
     ]
    },
    {
     "data": {
      "text/plain": [
       "49"
      ]
     },
     "metadata": {},
     "output_type": "display_data"
    },
    {
     "name": "stdout",
     "output_type": "stream",
     "text": [
      "[  900 peptides ]  Epoch   0 / 100: loss=1.80944. Min val loss (None) at epoch None\n"
     ]
    },
    {
     "data": {
      "text/plain": [
       "50"
      ]
     },
     "metadata": {},
     "output_type": "display_data"
    },
    {
     "name": "stdout",
     "output_type": "stream",
     "text": [
      "[  900 peptides ]  Epoch   0 / 100: loss=1.76341. Min val loss (None) at epoch None\n",
      "[  900 peptides ]  Stopping at epoch  67 / 100: loss=0.0203394. Min val loss (0.017045728862285614) at epoch 46\n"
     ]
    },
    {
     "data": {
      "text/plain": [
       "51"
      ]
     },
     "metadata": {},
     "output_type": "display_data"
    },
    {
     "name": "stdout",
     "output_type": "stream",
     "text": [
      "[  900 peptides ]  Epoch   0 / 100: loss=1.81055. Min val loss (None) at epoch None\n"
     ]
    },
    {
     "data": {
      "text/plain": [
       "52"
      ]
     },
     "metadata": {},
     "output_type": "display_data"
    },
    {
     "name": "stdout",
     "output_type": "stream",
     "text": [
      "[  900 peptides ]  Epoch   0 / 100: loss=1.75923. Min val loss (None) at epoch None\n",
      "[  900 peptides ]  Stopping at epoch  65 / 100: loss=0.0239099. Min val loss (0.026164233684539795) at epoch 44\n"
     ]
    },
    {
     "data": {
      "text/plain": [
       "53"
      ]
     },
     "metadata": {},
     "output_type": "display_data"
    },
    {
     "name": "stdout",
     "output_type": "stream",
     "text": [
      "[  900 peptides ]  Epoch   0 / 100: loss=1.78323. Min val loss (None) at epoch None\n",
      "[  900 peptides ]  Stopping at epoch  88 / 100: loss=0.0274101. Min val loss (0.029642688110470772) at epoch 67\n"
     ]
    },
    {
     "data": {
      "text/plain": [
       "54"
      ]
     },
     "metadata": {},
     "output_type": "display_data"
    },
    {
     "name": "stdout",
     "output_type": "stream",
     "text": [
      "[  900 peptides ]  Epoch   0 / 100: loss=1.79466. Min val loss (None) at epoch None\n",
      "[  900 peptides ]  Stopping at epoch  78 / 100: loss=0.0272549. Min val loss (0.027194665744900703) at epoch 57\n"
     ]
    },
    {
     "data": {
      "text/plain": [
       "55"
      ]
     },
     "metadata": {},
     "output_type": "display_data"
    },
    {
     "name": "stdout",
     "output_type": "stream",
     "text": [
      "[  900 peptides ]  Epoch   0 / 100: loss=1.78112. Min val loss (None) at epoch None\n",
      "[  900 peptides ]  Stopping at epoch  65 / 100: loss=0.0308445. Min val loss (0.03134380280971527) at epoch 44\n"
     ]
    },
    {
     "data": {
      "text/plain": [
       "56"
      ]
     },
     "metadata": {},
     "output_type": "display_data"
    },
    {
     "name": "stdout",
     "output_type": "stream",
     "text": [
      "[  900 peptides ]  Epoch   0 / 100: loss=1.81308. Min val loss (None) at epoch None\n"
     ]
    },
    {
     "data": {
      "text/plain": [
       "57"
      ]
     },
     "metadata": {},
     "output_type": "display_data"
    },
    {
     "name": "stdout",
     "output_type": "stream",
     "text": [
      "[  900 peptides ]  Epoch   0 / 100: loss=1.80515. Min val loss (None) at epoch None\n",
      "[  900 peptides ]  Stopping at epoch  71 / 100: loss=0.0325461. Min val loss (0.0322868749499321) at epoch 50\n"
     ]
    },
    {
     "data": {
      "text/plain": [
       "58"
      ]
     },
     "metadata": {},
     "output_type": "display_data"
    },
    {
     "name": "stdout",
     "output_type": "stream",
     "text": [
      "[  900 peptides ]  Epoch   0 / 100: loss=1.83693. Min val loss (None) at epoch None\n"
     ]
    },
    {
     "data": {
      "text/plain": [
       "59"
      ]
     },
     "metadata": {},
     "output_type": "display_data"
    },
    {
     "name": "stdout",
     "output_type": "stream",
     "text": [
      "[  900 peptides ]  Epoch   0 / 100: loss=1.81277. Min val loss (None) at epoch None\n",
      "[  900 peptides ]  Stopping at epoch  67 / 100: loss=0.0430236. Min val loss (0.040841203182935715) at epoch 46\n"
     ]
    },
    {
     "data": {
      "text/plain": [
       "60"
      ]
     },
     "metadata": {},
     "output_type": "display_data"
    },
    {
     "name": "stdout",
     "output_type": "stream",
     "text": [
      "[  900 peptides ]  Epoch   0 / 100: loss=1.76509. Min val loss (None) at epoch None\n",
      "[  900 peptides ]  Stopping at epoch  78 / 100: loss=0.02849. Min val loss (0.02453094907104969) at epoch 57\n"
     ]
    },
    {
     "data": {
      "text/plain": [
       "61"
      ]
     },
     "metadata": {},
     "output_type": "display_data"
    },
    {
     "name": "stdout",
     "output_type": "stream",
     "text": [
      "[  900 peptides ]  Epoch   0 / 100: loss=1.83445. Min val loss (None) at epoch None\n",
      "[  900 peptides ]  Stopping at epoch  63 / 100: loss=0.0359271. Min val loss (0.04600311815738678) at epoch 42\n"
     ]
    },
    {
     "data": {
      "text/plain": [
       "62"
      ]
     },
     "metadata": {},
     "output_type": "display_data"
    },
    {
     "name": "stdout",
     "output_type": "stream",
     "text": [
      "[  900 peptides ]  Epoch   0 / 100: loss=1.76757. Min val loss (None) at epoch None\n",
      "[  900 peptides ]  Stopping at epoch  49 / 100: loss=0.0167805. Min val loss (0.015300154685974121) at epoch 28\n"
     ]
    },
    {
     "data": {
      "text/plain": [
       "63"
      ]
     },
     "metadata": {},
     "output_type": "display_data"
    },
    {
     "name": "stdout",
     "output_type": "stream",
     "text": [
      "[  900 peptides ]  Epoch   0 / 100: loss=1.73563. Min val loss (None) at epoch None\n",
      "[  900 peptides ]  Stopping at epoch  96 / 100: loss=0.0168067. Min val loss (0.015234431251883507) at epoch 75\n"
     ]
    },
    {
     "data": {
      "text/plain": [
       "64"
      ]
     },
     "metadata": {},
     "output_type": "display_data"
    },
    {
     "name": "stdout",
     "output_type": "stream",
     "text": [
      "[  900 peptides ]  Epoch   0 / 100: loss=1.76599. Min val loss (None) at epoch None\n",
      "[  900 peptides ]  Stopping at epoch  81 / 100: loss=0.032313. Min val loss (0.025504617020487785) at epoch 60\n"
     ]
    },
    {
     "data": {
      "text/plain": [
       "65"
      ]
     },
     "metadata": {},
     "output_type": "display_data"
    },
    {
     "name": "stdout",
     "output_type": "stream",
     "text": [
      "[  900 peptides ]  Epoch   0 / 100: loss=1.7577. Min val loss (None) at epoch None\n",
      "[  900 peptides ]  Stopping at epoch  57 / 100: loss=0.0184797. Min val loss (0.01643793284893036) at epoch 36\n"
     ]
    },
    {
     "data": {
      "text/plain": [
       "66"
      ]
     },
     "metadata": {},
     "output_type": "display_data"
    },
    {
     "name": "stdout",
     "output_type": "stream",
     "text": [
      "[  900 peptides ]  Epoch   0 / 100: loss=1.75163. Min val loss (None) at epoch None\n",
      "[  900 peptides ]  Stopping at epoch  58 / 100: loss=0.0218826. Min val loss (0.02343226782977581) at epoch 37\n"
     ]
    },
    {
     "data": {
      "text/plain": [
       "67"
      ]
     },
     "metadata": {},
     "output_type": "display_data"
    },
    {
     "name": "stdout",
     "output_type": "stream",
     "text": [
      "[  900 peptides ]  Epoch   0 / 100: loss=1.77372. Min val loss (None) at epoch None\n",
      "[  900 peptides ]  Stopping at epoch  62 / 100: loss=0.0198018. Min val loss (0.018644258379936218) at epoch 41\n"
     ]
    },
    {
     "data": {
      "text/plain": [
       "68"
      ]
     },
     "metadata": {},
     "output_type": "display_data"
    },
    {
     "name": "stdout",
     "output_type": "stream",
     "text": [
      "[  900 peptides ]  Epoch   0 / 100: loss=1.77749. Min val loss (None) at epoch None\n",
      "[  900 peptides ]  Stopping at epoch  49 / 100: loss=0.0297058. Min val loss (0.025563623756170273) at epoch 28\n"
     ]
    },
    {
     "data": {
      "text/plain": [
       "69"
      ]
     },
     "metadata": {},
     "output_type": "display_data"
    },
    {
     "name": "stdout",
     "output_type": "stream",
     "text": [
      "[  900 peptides ]  Epoch   0 / 100: loss=1.78554. Min val loss (None) at epoch None\n",
      "[  900 peptides ]  Stopping at epoch  67 / 100: loss=0.0187543. Min val loss (0.018333589658141136) at epoch 46\n"
     ]
    },
    {
     "data": {
      "text/plain": [
       "70"
      ]
     },
     "metadata": {},
     "output_type": "display_data"
    },
    {
     "name": "stdout",
     "output_type": "stream",
     "text": [
      "[  900 peptides ]  Epoch   0 / 100: loss=1.75678. Min val loss (None) at epoch None\n",
      "[  900 peptides ]  Stopping at epoch  62 / 100: loss=0.0202538. Min val loss (0.020949307829141617) at epoch 41\n"
     ]
    },
    {
     "data": {
      "text/plain": [
       "71"
      ]
     },
     "metadata": {},
     "output_type": "display_data"
    },
    {
     "name": "stdout",
     "output_type": "stream",
     "text": [
      "[  900 peptides ]  Epoch   0 / 100: loss=1.77092. Min val loss (None) at epoch None\n",
      "[  900 peptides ]  Stopping at epoch  67 / 100: loss=0.0185615. Min val loss (0.01939953863620758) at epoch 46\n"
     ]
    },
    {
     "data": {
      "text/plain": [
       "72"
      ]
     },
     "metadata": {},
     "output_type": "display_data"
    },
    {
     "name": "stdout",
     "output_type": "stream",
     "text": [
      "[  900 peptides ]  Epoch   0 / 100: loss=1.78201. Min val loss (None) at epoch None\n",
      "[  900 peptides ]  Stopping at epoch  50 / 100: loss=0.0278372. Min val loss (0.026008646935224533) at epoch 29\n"
     ]
    },
    {
     "data": {
      "text/plain": [
       "73"
      ]
     },
     "metadata": {},
     "output_type": "display_data"
    },
    {
     "name": "stdout",
     "output_type": "stream",
     "text": [
      "[  900 peptides ]  Epoch   0 / 100: loss=1.75974. Min val loss (None) at epoch None\n",
      "[  900 peptides ]  Stopping at epoch  62 / 100: loss=0.0242033. Min val loss (0.032555125653743744) at epoch 41\n"
     ]
    },
    {
     "data": {
      "text/plain": [
       "74"
      ]
     },
     "metadata": {},
     "output_type": "display_data"
    },
    {
     "name": "stdout",
     "output_type": "stream",
     "text": [
      "[  900 peptides ]  Epoch   0 / 100: loss=1.78754. Min val loss (None) at epoch None\n",
      "[  900 peptides ]  Stopping at epoch  70 / 100: loss=0.0207654. Min val loss (0.02229415439069271) at epoch 49\n"
     ]
    },
    {
     "data": {
      "text/plain": [
       "75"
      ]
     },
     "metadata": {},
     "output_type": "display_data"
    },
    {
     "name": "stdout",
     "output_type": "stream",
     "text": [
      "[  900 peptides ]  Epoch   0 / 100: loss=1.76156. Min val loss (None) at epoch None\n",
      "[  900 peptides ]  Stopping at epoch  70 / 100: loss=0.016727. Min val loss (0.01534733921289444) at epoch 49\n"
     ]
    },
    {
     "data": {
      "text/plain": [
       "76"
      ]
     },
     "metadata": {},
     "output_type": "display_data"
    },
    {
     "name": "stdout",
     "output_type": "stream",
     "text": [
      "[  900 peptides ]  Epoch   0 / 100: loss=1.84136. Min val loss (None) at epoch None\n"
     ]
    },
    {
     "data": {
      "text/plain": [
       "77"
      ]
     },
     "metadata": {},
     "output_type": "display_data"
    },
    {
     "name": "stdout",
     "output_type": "stream",
     "text": [
      "[  900 peptides ]  Epoch   0 / 100: loss=1.84292. Min val loss (None) at epoch None\n",
      "[  900 peptides ]  Stopping at epoch  89 / 100: loss=0.0489284. Min val loss (0.06464552879333496) at epoch 68\n"
     ]
    },
    {
     "data": {
      "text/plain": [
       "78"
      ]
     },
     "metadata": {},
     "output_type": "display_data"
    },
    {
     "name": "stdout",
     "output_type": "stream",
     "text": [
      "[  900 peptides ]  Epoch   0 / 100: loss=1.87273. Min val loss (None) at epoch None\n"
     ]
    },
    {
     "data": {
      "text/plain": [
       "79"
      ]
     },
     "metadata": {},
     "output_type": "display_data"
    },
    {
     "name": "stdout",
     "output_type": "stream",
     "text": [
      "[  900 peptides ]  Epoch   0 / 100: loss=1.83735. Min val loss (None) at epoch None\n"
     ]
    },
    {
     "data": {
      "text/plain": [
       "80"
      ]
     },
     "metadata": {},
     "output_type": "display_data"
    },
    {
     "name": "stdout",
     "output_type": "stream",
     "text": [
      "[  900 peptides ]  Epoch   0 / 100: loss=1.82446. Min val loss (None) at epoch None\n",
      "[  900 peptides ]  Stopping at epoch  63 / 100: loss=0.0364333. Min val loss (0.043047621846199036) at epoch 42\n"
     ]
    },
    {
     "data": {
      "text/plain": [
       "81"
      ]
     },
     "metadata": {},
     "output_type": "display_data"
    },
    {
     "name": "stdout",
     "output_type": "stream",
     "text": [
      "[  900 peptides ]  Epoch   0 / 100: loss=1.84912. Min val loss (None) at epoch None\n"
     ]
    },
    {
     "data": {
      "text/plain": [
       "82"
      ]
     },
     "metadata": {},
     "output_type": "display_data"
    },
    {
     "name": "stdout",
     "output_type": "stream",
     "text": [
      "[  900 peptides ]  Epoch   0 / 100: loss=1.82838. Min val loss (None) at epoch None\n",
      "[  900 peptides ]  Epoch  76 / 100: loss=0.0383862. Min val loss (0.041093118488788605) at epoch 70\n"
     ]
    },
    {
     "data": {
      "text/plain": [
       "83"
      ]
     },
     "metadata": {},
     "output_type": "display_data"
    }
   ],
   "source": [
    "results = np.zeros((2,100))\n",
    "MSE = np.zeros((1,alleleList.shape[0]))\n",
    "#dfATest has the Peptides that are NOT include in Training so we can use them for Test!!\n",
    "\n",
    "#I use 900 for training out of 1000 so I can Test for 100\n",
    "i=0\n",
    "for m in alleleList['Allele']:\n",
    "    Allele = m\n",
    "    one_allele_td = df.loc[df.allele == Allele].sample(900)\n",
    "    #fit the predictor with this data\n",
    "    predictor = Class1AffinityPredictor()\n",
    "    predictor.fit_allele_specific_predictors( n_models=1,\n",
    "        architecture_hyperparameters_list=[{\n",
    "        \"layer_sizes\": [300],\n",
    "        \"max_epochs\": 100,\n",
    "        \"random_negative_constant\": 1,\n",
    "        }],\n",
    "        peptides = one_allele_td.peptide.values,\n",
    "        affinities = one_allele_td.measurement_value.values,\n",
    "        allele=m)\n",
    "    dfA = df.loc[df.allele == Allele].copy()\n",
    "    dfATest = dfA[~dfA.peptide.isin(one_allele_td.peptide)].copy()\n",
    "    display(i)\n",
    "    for k in range(0,100):\n",
    "        results[0][k] =dfATest.measurement_value.values[k]\n",
    "        results[1][k] = predictor.predict([dfATest.peptide.values[k]],allele=m)\n",
    "\n",
    "    MSE[0][i] = ((results[0]-results[1])**2).mean(axis=0) \n",
    "    i=i+1\n",
    "\n",
    "\n"
   ]
  },
  {
   "cell_type": "code",
   "execution_count": 9,
   "metadata": {},
   "outputs": [
    {
     "data": {
      "image/png": "[encoded data removed]",
      "text/plain": [
       "<Figure size 640x480 with 1 Axes>"
      ]
     },
     "metadata": {},
     "output_type": "display_data"
    }
   ],
   "source": [
    "import matplotlib.pyplot as plt; plt.rcdefaults()\n",
    "import numpy as np\n",
    "import matplotlib.pyplot as plt\n",
    "\n",
    "objects = alleleList.Allele\n",
    "y_pos = np.arange(len(objects))\n",
    "\n",
    "plt.bar(y_pos,MSE[0],align='center',alpha = 0.5,width=1,log=True)\n",
    "plt.xticks(y_pos, objects,rotation=90,fontsize=3)\n",
    "plt.ylabel('log_10 of MSE')\n",
    "plt.title('Mean Squared Error')\n",
    "\n",
    "plt.show()"
   ]
  },
  {
   "cell_type": "code",
   "execution_count": null,
   "metadata": {},
   "outputs": [],
   "source": []
  },
  {
   "cell_type": "code",
   "execution_count": null,
   "metadata": {},
   "outputs": [],
   "source": []
  },
  {
   "cell_type": "code",
   "execution_count": null,
   "metadata": {},
   "outputs": [],
   "source": []
  }
 ],
 "metadata": {
  "kernelspec": {
   "display_name": "Python 2",
   "language": "python",
   "name": "python2"
  },
  "language_info": {
   "codemirror_mode": {
    "name": "ipython",
    "version": 2
   },
   "file_extension": ".py",
   "mimetype": "text/x-python",
   "name": "python",
   "nbconvert_exporter": "python",
   "pygments_lexer": "ipython2",
   "version": "2.7.15rc1"
  }
 },
 "nbformat": 4,
 "nbformat_minor": 2
}
