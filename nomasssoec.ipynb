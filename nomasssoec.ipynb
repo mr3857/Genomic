{
 "cells": [
  {
   "cell_type": "code",
   "execution_count": 16,
   "metadata": {},
   "outputs": [],
   "source": [
    "import numpy as np\n",
    "import pandas as pd\n",
    "from IPython.display import display\n",
    "\n",
    "import mhcflurry as fl\n",
    "\n",
    "from mhcflurry.downloads import get_path\n",
    "from mhcflurry import Class1AffinityPredictor\n"
   ]
  },
  {
   "cell_type": "code",
   "execution_count": 18,
   "metadata": {},
   "outputs": [
    {
     "name": "stdout",
     "output_type": "stream",
     "text": [
      "There are 234295 Peptide-Allele measured values.\n"
     ]
    }
   ],
   "source": [
    "#First load data\n",
    "\n",
    "file_name = get_path(\"data_curated\",\"curated_training_data.no_mass_spec.csv.bz2\")\n",
    "df = pd.read_csv(file_name)\n",
    "print(\"There are %d Peptide-Allele measured values.\" % df.shape[0])\n",
    " "
   ]
  },
  {
   "cell_type": "code",
   "execution_count": 19,
   "metadata": {},
   "outputs": [
    {
     "data": {
      "text/html": [
       "<div>\n",
       "<style scoped>\n",
       "    .dataframe tbody tr th:only-of-type {\n",
       "        vertical-align: middle;\n",
       "    }\n",
       "\n",
       "    .dataframe tbody tr th {\n",
       "        vertical-align: top;\n",
       "    }\n",
       "\n",
       "    .dataframe thead th {\n",
       "        text-align: right;\n",
       "    }\n",
       "</style>\n",
       "<table border=\"1\" class=\"dataframe\">\n",
       "  <thead>\n",
       "    <tr style=\"text-align: right;\">\n",
       "      <th></th>\n",
       "      <th>allele</th>\n",
       "      <th>peptide</th>\n",
       "      <th>measurement_value</th>\n",
       "      <th>measurement_inequality</th>\n",
       "      <th>measurement_type</th>\n",
       "      <th>measurement_source</th>\n",
       "      <th>original_allele</th>\n",
       "    </tr>\n",
       "  </thead>\n",
       "  <tbody>\n",
       "    <tr>\n",
       "      <th>0</th>\n",
       "      <td>BoLA-1*21:01</td>\n",
       "      <td>AENDTLVVSV</td>\n",
       "      <td>7817.0</td>\n",
       "      <td>=</td>\n",
       "      <td>quantitative</td>\n",
       "      <td>Barlow - purified MHC/competitive/fluorescence</td>\n",
       "      <td>BoLA-1*02101</td>\n",
       "    </tr>\n",
       "    <tr>\n",
       "      <th>1</th>\n",
       "      <td>BoLA-1*21:01</td>\n",
       "      <td>NQFNGGCLLV</td>\n",
       "      <td>1086.0</td>\n",
       "      <td>=</td>\n",
       "      <td>quantitative</td>\n",
       "      <td>Barlow - purified MHC/direct/fluorescence</td>\n",
       "      <td>BoLA-1*02101</td>\n",
       "    </tr>\n",
       "    <tr>\n",
       "      <th>2</th>\n",
       "      <td>BoLA-2*08:01</td>\n",
       "      <td>AAHCIHAEW</td>\n",
       "      <td>21.0</td>\n",
       "      <td>=</td>\n",
       "      <td>quantitative</td>\n",
       "      <td>Barlow - purified MHC/direct/fluorescence</td>\n",
       "      <td>BoLA-2*00801</td>\n",
       "    </tr>\n",
       "    <tr>\n",
       "      <th>3</th>\n",
       "      <td>BoLA-2*08:01</td>\n",
       "      <td>AAKHMSNTY</td>\n",
       "      <td>1299.0</td>\n",
       "      <td>=</td>\n",
       "      <td>quantitative</td>\n",
       "      <td>Barlow - purified MHC/direct/fluorescence</td>\n",
       "      <td>BoLA-2*00801</td>\n",
       "    </tr>\n",
       "    <tr>\n",
       "      <th>4</th>\n",
       "      <td>BoLA-2*08:01</td>\n",
       "      <td>DSYAYMRNGW</td>\n",
       "      <td>2.0</td>\n",
       "      <td>=</td>\n",
       "      <td>quantitative</td>\n",
       "      <td>Barlow - purified MHC/direct/fluorescence</td>\n",
       "      <td>BoLA-2*00801</td>\n",
       "    </tr>\n",
       "  </tbody>\n",
       "</table>\n",
       "</div>"
      ],
      "text/plain": [
       "         allele     peptide  measurement_value measurement_inequality  \\\n",
       "0  BoLA-1*21:01  AENDTLVVSV             7817.0                      =   \n",
       "1  BoLA-1*21:01  NQFNGGCLLV             1086.0                      =   \n",
       "2  BoLA-2*08:01   AAHCIHAEW               21.0                      =   \n",
       "3  BoLA-2*08:01   AAKHMSNTY             1299.0                      =   \n",
       "4  BoLA-2*08:01  DSYAYMRNGW                2.0                      =   \n",
       "\n",
       "  measurement_type                              measurement_source  \\\n",
       "0     quantitative  Barlow - purified MHC/competitive/fluorescence   \n",
       "1     quantitative       Barlow - purified MHC/direct/fluorescence   \n",
       "2     quantitative       Barlow - purified MHC/direct/fluorescence   \n",
       "3     quantitative       Barlow - purified MHC/direct/fluorescence   \n",
       "4     quantitative       Barlow - purified MHC/direct/fluorescence   \n",
       "\n",
       "  original_allele  \n",
       "0    BoLA-1*02101  \n",
       "1    BoLA-1*02101  \n",
       "2    BoLA-2*00801  \n",
       "3    BoLA-2*00801  \n",
       "4    BoLA-2*00801  "
      ]
     },
     "metadata": {},
     "output_type": "display_data"
    }
   ],
   "source": [
    "display(df.head())"
   ]
  },
  {
   "cell_type": "code",
   "execution_count": 20,
   "metadata": {},
   "outputs": [
    {
     "name": "stdout",
     "output_type": "stream",
     "text": [
      "There are 233238 Peptide-Allele measured values after filtering.\n",
      "There are 54 Alleles with more that 500 measured values.\n"
     ]
    }
   ],
   "source": [
    "#The algorith is designed to work with peptides from 8 to 15 aa. So filtering is needed\n",
    "df = df.loc[(df.peptide.str.len() >7) & (df.peptide.str.len() < 16)]\n",
    "print(\"There are %d Peptide-Allele measured values after filtering.\" % df.shape[0])\n",
    "\n",
    "#Make a list of Alleles and the frecuencies \n",
    "alleleList = ((pd.DataFrame(np.transpose(np.unique(df.allele, return_counts = True)))))\n",
    "alleleList.columns = ['Allele','Count']\n",
    "#Choose alleles with more that 500 measured values\n",
    "alleleList = alleleList[alleleList.Count >= 1000]\n",
    "print(\"There are %d Alleles with more that 500 measured values.\" % alleleList.shape[0])"
   ]
  },
  {
   "cell_type": "code",
   "execution_count": 21,
   "metadata": {},
   "outputs": [
    {
     "name": "stdout",
     "output_type": "stream",
     "text": [
      "[  900 peptides ]  Epoch   0 / 100: loss=1.85228. Min val loss (None) at epoch None\n"
     ]
    },
    {
     "data": {
      "text/plain": [
       "0"
      ]
     },
     "metadata": {},
     "output_type": "display_data"
    },
    {
     "name": "stdout",
     "output_type": "stream",
     "text": [
      "[  900 peptides ]  Epoch   0 / 100: loss=1.84141. Min val loss (None) at epoch None\n",
      "[  900 peptides ]  Stopping at epoch  96 / 100: loss=0.0427519. Min val loss (0.06331303715705872) at epoch 75\n"
     ]
    },
    {
     "data": {
      "text/plain": [
       "1"
      ]
     },
     "metadata": {},
     "output_type": "display_data"
    },
    {
     "name": "stdout",
     "output_type": "stream",
     "text": [
      "[  900 peptides ]  Epoch   0 / 100: loss=1.84905. Min val loss (None) at epoch None\n",
      "[  900 peptides ]  Stopping at epoch  92 / 100: loss=0.0444637. Min val loss (0.0546547994017601) at epoch 71\n"
     ]
    },
    {
     "data": {
      "text/plain": [
       "2"
      ]
     },
     "metadata": {},
     "output_type": "display_data"
    },
    {
     "name": "stdout",
     "output_type": "stream",
     "text": [
      "[  900 peptides ]  Epoch   0 / 100: loss=1.84074. Min val loss (None) at epoch None\n",
      "[  900 peptides ]  Stopping at epoch  91 / 100: loss=0.035716. Min val loss (0.043325357139110565) at epoch 70\n"
     ]
    },
    {
     "data": {
      "text/plain": [
       "3"
      ]
     },
     "metadata": {},
     "output_type": "display_data"
    },
    {
     "name": "stdout",
     "output_type": "stream",
     "text": [
      "[  900 peptides ]  Epoch   0 / 100: loss=1.81717. Min val loss (None) at epoch None\n"
     ]
    },
    {
     "data": {
      "text/plain": [
       "4"
      ]
     },
     "metadata": {},
     "output_type": "display_data"
    },
    {
     "name": "stdout",
     "output_type": "stream",
     "text": [
      "[  900 peptides ]  Epoch   0 / 100: loss=1.82679. Min val loss (None) at epoch None\n",
      "[  900 peptides ]  Stopping at epoch  80 / 100: loss=0.0470209. Min val loss (0.06675626337528229) at epoch 59\n"
     ]
    },
    {
     "data": {
      "text/plain": [
       "5"
      ]
     },
     "metadata": {},
     "output_type": "display_data"
    },
    {
     "name": "stdout",
     "output_type": "stream",
     "text": [
      "[  900 peptides ]  Epoch   0 / 100: loss=1.86174. Min val loss (None) at epoch None\n",
      "[  900 peptides ]  Stopping at epoch  72 / 100: loss=0.0463851. Min val loss (0.06200426071882248) at epoch 51\n"
     ]
    },
    {
     "data": {
      "text/plain": [
       "6"
      ]
     },
     "metadata": {},
     "output_type": "display_data"
    },
    {
     "name": "stdout",
     "output_type": "stream",
     "text": [
      "[  900 peptides ]  Epoch   0 / 100: loss=1.83416. Min val loss (None) at epoch None\n",
      "[  900 peptides ]  Stopping at epoch  70 / 100: loss=0.0544153. Min val loss (0.06857652962207794) at epoch 49\n"
     ]
    },
    {
     "data": {
      "text/plain": [
       "7"
      ]
     },
     "metadata": {},
     "output_type": "display_data"
    },
    {
     "name": "stdout",
     "output_type": "stream",
     "text": [
      "[  900 peptides ]  Epoch   0 / 100: loss=1.87615. Min val loss (None) at epoch None\n"
     ]
    },
    {
     "data": {
      "text/plain": [
       "8"
      ]
     },
     "metadata": {},
     "output_type": "display_data"
    },
    {
     "name": "stdout",
     "output_type": "stream",
     "text": [
      "[  900 peptides ]  Epoch   0 / 100: loss=1.86285. Min val loss (None) at epoch None\n",
      "[  900 peptides ]  Stopping at epoch  96 / 100: loss=0.037331. Min val loss (0.05990808457136154) at epoch 75\n"
     ]
    },
    {
     "data": {
      "text/plain": [
       "9"
      ]
     },
     "metadata": {},
     "output_type": "display_data"
    },
    {
     "name": "stdout",
     "output_type": "stream",
     "text": [
      "[  900 peptides ]  Epoch   0 / 100: loss=1.85159. Min val loss (None) at epoch None\n"
     ]
    },
    {
     "data": {
      "text/plain": [
       "10"
      ]
     },
     "metadata": {},
     "output_type": "display_data"
    },
    {
     "name": "stdout",
     "output_type": "stream",
     "text": [
      "[  900 peptides ]  Epoch   0 / 100: loss=1.85063. Min val loss (None) at epoch None\n",
      "[  900 peptides ]  Stopping at epoch  73 / 100: loss=0.0383955. Min val loss (0.05264127999544144) at epoch 52\n"
     ]
    },
    {
     "data": {
      "text/plain": [
       "11"
      ]
     },
     "metadata": {},
     "output_type": "display_data"
    },
    {
     "name": "stdout",
     "output_type": "stream",
     "text": [
      "[  900 peptides ]  Epoch   0 / 100: loss=1.81922. Min val loss (None) at epoch None\n",
      "[  900 peptides ]  Stopping at epoch  89 / 100: loss=0.0421585. Min val loss (0.052471645176410675) at epoch 68\n"
     ]
    },
    {
     "data": {
      "text/plain": [
       "12"
      ]
     },
     "metadata": {},
     "output_type": "display_data"
    },
    {
     "name": "stdout",
     "output_type": "stream",
     "text": [
      "[  900 peptides ]  Epoch   0 / 100: loss=1.82373. Min val loss (None) at epoch None\n",
      "[  900 peptides ]  Stopping at epoch  76 / 100: loss=0.0400823. Min val loss (0.05897773057222366) at epoch 55\n"
     ]
    },
    {
     "data": {
      "text/plain": [
       "13"
      ]
     },
     "metadata": {},
     "output_type": "display_data"
    },
    {
     "name": "stdout",
     "output_type": "stream",
     "text": [
      "[  900 peptides ]  Epoch   0 / 100: loss=1.81837. Min val loss (None) at epoch None\n",
      "[  900 peptides ]  Stopping at epoch  55 / 100: loss=0.0488352. Min val loss (0.04354090243577957) at epoch 34\n"
     ]
    },
    {
     "data": {
      "text/plain": [
       "14"
      ]
     },
     "metadata": {},
     "output_type": "display_data"
    },
    {
     "name": "stdout",
     "output_type": "stream",
     "text": [
      "[  900 peptides ]  Epoch   0 / 100: loss=1.86622. Min val loss (None) at epoch None\n",
      "[  900 peptides ]  Epoch  87 / 100: loss=0.0323783. Min val loss (0.04913947731256485) at epoch 84\n"
     ]
    },
    {
     "data": {
      "text/plain": [
       "15"
      ]
     },
     "metadata": {},
     "output_type": "display_data"
    },
    {
     "name": "stdout",
     "output_type": "stream",
     "text": [
      "[  900 peptides ]  Epoch   0 / 100: loss=1.82129. Min val loss (None) at epoch None\n",
      "[  900 peptides ]  Stopping at epoch  66 / 100: loss=0.0365103. Min val loss (0.044013120234012604) at epoch 45\n"
     ]
    },
    {
     "data": {
      "text/plain": [
       "16"
      ]
     },
     "metadata": {},
     "output_type": "display_data"
    },
    {
     "name": "stdout",
     "output_type": "stream",
     "text": [
      "[  900 peptides ]  Epoch   0 / 100: loss=1.85331. Min val loss (None) at epoch None\n",
      "[  900 peptides ]  Stopping at epoch  84 / 100: loss=0.0450034. Min val loss (0.05629328638315201) at epoch 63\n"
     ]
    },
    {
     "data": {
      "text/plain": [
       "17"
      ]
     },
     "metadata": {},
     "output_type": "display_data"
    },
    {
     "name": "stdout",
     "output_type": "stream",
     "text": [
      "[  900 peptides ]  Epoch   0 / 100: loss=1.80667. Min val loss (None) at epoch None\n",
      "[  900 peptides ]  Stopping at epoch  71 / 100: loss=0.043012. Min val loss (0.05284168943762779) at epoch 50\n"
     ]
    },
    {
     "data": {
      "text/plain": [
       "18"
      ]
     },
     "metadata": {},
     "output_type": "display_data"
    },
    {
     "name": "stdout",
     "output_type": "stream",
     "text": [
      "[  900 peptides ]  Epoch   0 / 100: loss=1.84447. Min val loss (None) at epoch None\n",
      "[  900 peptides ]  Stopping at epoch  68 / 100: loss=0.0478249. Min val loss (0.0694306343793869) at epoch 47\n"
     ]
    },
    {
     "data": {
      "text/plain": [
       "19"
      ]
     },
     "metadata": {},
     "output_type": "display_data"
    },
    {
     "name": "stdout",
     "output_type": "stream",
     "text": [
      "[  900 peptides ]  Epoch   0 / 100: loss=1.79692. Min val loss (None) at epoch None\n",
      "[  900 peptides ]  Epoch  72 / 100: loss=0.0432. Min val loss (0.049108296632766724) at epoch 71\n",
      "[  900 peptides ]  Stopping at epoch  92 / 100: loss=0.0407455. Min val loss (0.049108296632766724) at epoch 71\n"
     ]
    },
    {
     "data": {
      "text/plain": [
       "20"
      ]
     },
     "metadata": {},
     "output_type": "display_data"
    },
    {
     "name": "stdout",
     "output_type": "stream",
     "text": [
      "[  900 peptides ]  Epoch   0 / 100: loss=1.87236. Min val loss (None) at epoch None\n",
      "[  900 peptides ]  Stopping at epoch  79 / 100: loss=0.0507605. Min val loss (0.06060591712594032) at epoch 58\n"
     ]
    },
    {
     "data": {
      "text/plain": [
       "21"
      ]
     },
     "metadata": {},
     "output_type": "display_data"
    },
    {
     "name": "stdout",
     "output_type": "stream",
     "text": [
      "[  900 peptides ]  Epoch   0 / 100: loss=1.85252. Min val loss (None) at epoch None\n"
     ]
    },
    {
     "data": {
      "text/plain": [
       "22"
      ]
     },
     "metadata": {},
     "output_type": "display_data"
    },
    {
     "name": "stdout",
     "output_type": "stream",
     "text": [
      "[  900 peptides ]  Epoch   0 / 100: loss=1.84391. Min val loss (None) at epoch None\n"
     ]
    },
    {
     "data": {
      "text/plain": [
       "23"
      ]
     },
     "metadata": {},
     "output_type": "display_data"
    },
    {
     "name": "stdout",
     "output_type": "stream",
     "text": [
      "[  900 peptides ]  Epoch   0 / 100: loss=1.82565. Min val loss (None) at epoch None\n",
      "[  900 peptides ]  Stopping at epoch  82 / 100: loss=0.0397717. Min val loss (0.048397623002529144) at epoch 61\n"
     ]
    },
    {
     "data": {
      "text/plain": [
       "24"
      ]
     },
     "metadata": {},
     "output_type": "display_data"
    },
    {
     "name": "stdout",
     "output_type": "stream",
     "text": [
      "[  900 peptides ]  Epoch   0 / 100: loss=1.8141. Min val loss (None) at epoch None\n"
     ]
    },
    {
     "data": {
      "text/plain": [
       "25"
      ]
     },
     "metadata": {},
     "output_type": "display_data"
    },
    {
     "name": "stdout",
     "output_type": "stream",
     "text": [
      "[  900 peptides ]  Epoch   0 / 100: loss=1.8201. Min val loss (None) at epoch None\n"
     ]
    },
    {
     "data": {
      "text/plain": [
       "26"
      ]
     },
     "metadata": {},
     "output_type": "display_data"
    },
    {
     "name": "stdout",
     "output_type": "stream",
     "text": [
      "[  900 peptides ]  Epoch   0 / 100: loss=1.83887. Min val loss (None) at epoch None\n",
      "[  900 peptides ]  Epoch  81 / 100: loss=0.0413589. Min val loss (0.04440499097108841) at epoch 73\n"
     ]
    },
    {
     "data": {
      "text/plain": [
       "27"
      ]
     },
     "metadata": {},
     "output_type": "display_data"
    },
    {
     "name": "stdout",
     "output_type": "stream",
     "text": [
      "[  900 peptides ]  Epoch   0 / 100: loss=1.84419. Min val loss (None) at epoch None\n",
      "[  900 peptides ]  Stopping at epoch  60 / 100: loss=0.0414991. Min val loss (0.042369741946458817) at epoch 39\n"
     ]
    },
    {
     "data": {
      "text/plain": [
       "28"
      ]
     },
     "metadata": {},
     "output_type": "display_data"
    },
    {
     "name": "stdout",
     "output_type": "stream",
     "text": [
      "[  900 peptides ]  Epoch   0 / 100: loss=1.81943. Min val loss (None) at epoch None\n"
     ]
    },
    {
     "data": {
      "text/plain": [
       "29"
      ]
     },
     "metadata": {},
     "output_type": "display_data"
    },
    {
     "name": "stdout",
     "output_type": "stream",
     "text": [
      "[  900 peptides ]  Epoch   0 / 100: loss=1.80478. Min val loss (None) at epoch None\n",
      "[  900 peptides ]  Stopping at epoch  99 / 100: loss=0.0369216. Min val loss (0.046692296862602234) at epoch 78\n"
     ]
    },
    {
     "data": {
      "text/plain": [
       "30"
      ]
     },
     "metadata": {},
     "output_type": "display_data"
    },
    {
     "name": "stdout",
     "output_type": "stream",
     "text": [
      "[  900 peptides ]  Epoch   0 / 100: loss=1.86678. Min val loss (None) at epoch None\n"
     ]
    },
    {
     "data": {
      "text/plain": [
       "31"
      ]
     },
     "metadata": {},
     "output_type": "display_data"
    },
    {
     "name": "stdout",
     "output_type": "stream",
     "text": [
      "[  900 peptides ]  Epoch   0 / 100: loss=1.81463. Min val loss (None) at epoch None\n"
     ]
    },
    {
     "data": {
      "text/plain": [
       "32"
      ]
     },
     "metadata": {},
     "output_type": "display_data"
    },
    {
     "name": "stdout",
     "output_type": "stream",
     "text": [
      "[  900 peptides ]  Epoch   0 / 100: loss=1.81809. Min val loss (None) at epoch None\n",
      "[  900 peptides ]  Epoch  96 / 100: loss=0.0325408. Min val loss (0.04053938388824463) at epoch 78\n",
      "[  900 peptides ]  Stopping at epoch  99 / 100: loss=0.0316222. Min val loss (0.04053938388824463) at epoch 78\n"
     ]
    },
    {
     "data": {
      "text/plain": [
       "33"
      ]
     },
     "metadata": {},
     "output_type": "display_data"
    },
    {
     "name": "stdout",
     "output_type": "stream",
     "text": [
      "[  900 peptides ]  Epoch   0 / 100: loss=1.83468. Min val loss (None) at epoch None\n",
      "[  900 peptides ]  Stopping at epoch  77 / 100: loss=0.0461079. Min val loss (0.057092439383268356) at epoch 56\n"
     ]
    },
    {
     "data": {
      "text/plain": [
       "34"
      ]
     },
     "metadata": {},
     "output_type": "display_data"
    },
    {
     "name": "stdout",
     "output_type": "stream",
     "text": [
      "[  900 peptides ]  Epoch   0 / 100: loss=1.86017. Min val loss (None) at epoch None\n",
      "[  900 peptides ]  Stopping at epoch  88 / 100: loss=0.0295549. Min val loss (0.04662270098924637) at epoch 67\n"
     ]
    },
    {
     "data": {
      "text/plain": [
       "35"
      ]
     },
     "metadata": {},
     "output_type": "display_data"
    },
    {
     "name": "stdout",
     "output_type": "stream",
     "text": [
      "[  900 peptides ]  Epoch   0 / 100: loss=1.81564. Min val loss (None) at epoch None\n"
     ]
    },
    {
     "data": {
      "text/plain": [
       "36"
      ]
     },
     "metadata": {},
     "output_type": "display_data"
    },
    {
     "name": "stdout",
     "output_type": "stream",
     "text": [
      "[  900 peptides ]  Epoch   0 / 100: loss=1.83588. Min val loss (None) at epoch None\n",
      "[  900 peptides ]  Stopping at epoch  89 / 100: loss=0.0377822. Min val loss (0.041986849159002304) at epoch 68\n"
     ]
    },
    {
     "data": {
      "text/plain": [
       "37"
      ]
     },
     "metadata": {},
     "output_type": "display_data"
    },
    {
     "name": "stdout",
     "output_type": "stream",
     "text": [
      "[  900 peptides ]  Epoch   0 / 100: loss=1.8634. Min val loss (None) at epoch None\n",
      "[  900 peptides ]  Stopping at epoch  62 / 100: loss=0.0340046. Min val loss (0.049107931554317474) at epoch 41\n"
     ]
    },
    {
     "data": {
      "text/plain": [
       "38"
      ]
     },
     "metadata": {},
     "output_type": "display_data"
    },
    {
     "name": "stdout",
     "output_type": "stream",
     "text": [
      "[  900 peptides ]  Epoch   0 / 100: loss=1.84144. Min val loss (None) at epoch None\n"
     ]
    },
    {
     "data": {
      "text/plain": [
       "39"
      ]
     },
     "metadata": {},
     "output_type": "display_data"
    },
    {
     "name": "stdout",
     "output_type": "stream",
     "text": [
      "[  900 peptides ]  Epoch   0 / 100: loss=1.8483. Min val loss (None) at epoch None\n",
      "[  900 peptides ]  Stopping at epoch  95 / 100: loss=0.031473. Min val loss (0.0377328097820282) at epoch 74\n"
     ]
    },
    {
     "data": {
      "text/plain": [
       "40"
      ]
     },
     "metadata": {},
     "output_type": "display_data"
    },
    {
     "name": "stdout",
     "output_type": "stream",
     "text": [
      "[  900 peptides ]  Epoch   0 / 100: loss=1.82955. Min val loss (None) at epoch None\n",
      "[  900 peptides ]  Stopping at epoch  91 / 100: loss=0.0252648. Min val loss (0.02848147228360176) at epoch 70\n"
     ]
    },
    {
     "data": {
      "text/plain": [
       "41"
      ]
     },
     "metadata": {},
     "output_type": "display_data"
    },
    {
     "name": "stdout",
     "output_type": "stream",
     "text": [
      "[  900 peptides ]  Epoch   0 / 100: loss=1.81318. Min val loss (None) at epoch None\n",
      "[  900 peptides ]  Stopping at epoch  81 / 100: loss=0.0334371. Min val loss (0.035969220101833344) at epoch 60\n"
     ]
    },
    {
     "data": {
      "text/plain": [
       "42"
      ]
     },
     "metadata": {},
     "output_type": "display_data"
    },
    {
     "name": "stdout",
     "output_type": "stream",
     "text": [
      "[  900 peptides ]  Epoch   0 / 100: loss=1.86001. Min val loss (None) at epoch None\n",
      "[  900 peptides ]  Epoch  97 / 100: loss=0.0409694. Min val loss (0.04557567834854126) at epoch 93\n"
     ]
    },
    {
     "data": {
      "text/plain": [
       "43"
      ]
     },
     "metadata": {},
     "output_type": "display_data"
    },
    {
     "name": "stdout",
     "output_type": "stream",
     "text": [
      "[  900 peptides ]  Epoch   0 / 100: loss=1.83856. Min val loss (None) at epoch None\n",
      "[  900 peptides ]  Stopping at epoch  78 / 100: loss=0.0358759. Min val loss (0.044843003153800964) at epoch 57\n"
     ]
    },
    {
     "data": {
      "text/plain": [
       "44"
      ]
     },
     "metadata": {},
     "output_type": "display_data"
    },
    {
     "name": "stdout",
     "output_type": "stream",
     "text": [
      "[  900 peptides ]  Epoch   0 / 100: loss=1.82149. Min val loss (None) at epoch None\n",
      "[  900 peptides ]  Epoch  86 / 100: loss=0.0298253. Min val loss (0.038384631276130676) at epoch 68\n",
      "[  900 peptides ]  Stopping at epoch  89 / 100: loss=0.0305512. Min val loss (0.038384631276130676) at epoch 68\n"
     ]
    },
    {
     "data": {
      "text/plain": [
       "45"
      ]
     },
     "metadata": {},
     "output_type": "display_data"
    },
    {
     "name": "stdout",
     "output_type": "stream",
     "text": [
      "[  900 peptides ]  Epoch   0 / 100: loss=1.82977. Min val loss (None) at epoch None\n",
      "[  900 peptides ]  Stopping at epoch  87 / 100: loss=0.0341772. Min val loss (0.04006466269493103) at epoch 66\n"
     ]
    },
    {
     "data": {
      "text/plain": [
       "46"
      ]
     },
     "metadata": {},
     "output_type": "display_data"
    },
    {
     "name": "stdout",
     "output_type": "stream",
     "text": [
      "[  900 peptides ]  Epoch   0 / 100: loss=1.83584. Min val loss (None) at epoch None\n"
     ]
    },
    {
     "data": {
      "text/plain": [
       "47"
      ]
     },
     "metadata": {},
     "output_type": "display_data"
    },
    {
     "name": "stdout",
     "output_type": "stream",
     "text": [
      "[  900 peptides ]  Epoch   0 / 100: loss=1.86876. Min val loss (None) at epoch None\n"
     ]
    },
    {
     "data": {
      "text/plain": [
       "48"
      ]
     },
     "metadata": {},
     "output_type": "display_data"
    },
    {
     "name": "stdout",
     "output_type": "stream",
     "text": [
      "[  900 peptides ]  Epoch   0 / 100: loss=1.83702. Min val loss (None) at epoch None\n",
      "[  900 peptides ]  Stopping at epoch  66 / 100: loss=0.0467964. Min val loss (0.06814225763082504) at epoch 45\n"
     ]
    },
    {
     "data": {
      "text/plain": [
       "49"
      ]
     },
     "metadata": {},
     "output_type": "display_data"
    },
    {
     "name": "stdout",
     "output_type": "stream",
     "text": [
      "[  900 peptides ]  Epoch   0 / 100: loss=1.85028. Min val loss (None) at epoch None\n",
      "[  900 peptides ]  Epoch  97 / 100: loss=0.0332286. Min val loss (0.04068990424275398) at epoch 89\n"
     ]
    },
    {
     "data": {
      "text/plain": [
       "50"
      ]
     },
     "metadata": {},
     "output_type": "display_data"
    },
    {
     "name": "stdout",
     "output_type": "stream",
     "text": [
      "[  900 peptides ]  Epoch   0 / 100: loss=1.83504. Min val loss (None) at epoch None\n",
      "[  900 peptides ]  Stopping at epoch  65 / 100: loss=0.0353715. Min val loss (0.04065683111548424) at epoch 44\n"
     ]
    },
    {
     "data": {
      "text/plain": [
       "51"
      ]
     },
     "metadata": {},
     "output_type": "display_data"
    },
    {
     "name": "stdout",
     "output_type": "stream",
     "text": [
      "[  900 peptides ]  Epoch   0 / 100: loss=1.8283. Min val loss (None) at epoch None\n",
      "[  900 peptides ]  Epoch  96 / 100: loss=0.0328033. Min val loss (0.04240260645747185) at epoch 87\n"
     ]
    },
    {
     "data": {
      "text/plain": [
       "52"
      ]
     },
     "metadata": {},
     "output_type": "display_data"
    },
    {
     "name": "stdout",
     "output_type": "stream",
     "text": [
      "[  900 peptides ]  Epoch   0 / 100: loss=1.85635. Min val loss (None) at epoch None\n",
      "[  900 peptides ]  Epoch  97 / 100: loss=0.0331602. Min val loss (0.04477570205926895) at epoch 84\n"
     ]
    },
    {
     "data": {
      "text/plain": [
       "53"
      ]
     },
     "metadata": {},
     "output_type": "display_data"
    }
   ],
   "source": [
    "results = np.zeros((2,100))\n",
    "MSE = np.zeros((1,alleleList.shape[0]))\n",
    "#dfATest has the Peptides that are NOT include in Training so we can use them for Test!!\n",
    "\n",
    "#I use 900 for training out of 1000 so I can Test for 100\n",
    "i=0\n",
    "for m in alleleList['Allele']:\n",
    "    Allele = m\n",
    "    one_allele_td = df.loc[df.allele == Allele].sample(900)\n",
    "    #fit the predictor with this data\n",
    "    predictor = Class1AffinityPredictor()\n",
    "    predictor.fit_allele_specific_predictors( n_models=1,\n",
    "        architecture_hyperparameters_list=[{\n",
    "        \"layer_sizes\": [300],\n",
    "        \"max_epochs\": 100,\n",
    "        \"random_negative_constant\": 1,\n",
    "        }],\n",
    "        peptides = one_allele_td.peptide.values,\n",
    "        affinities = one_allele_td.measurement_value.values,\n",
    "        allele=m)\n",
    "    dfA = df.loc[df.allele == Allele].copy()\n",
    "    dfATest = dfA[~dfA.peptide.isin(one_allele_td.peptide)].copy()\n",
    "    display(i)\n",
    "    for k in range(0,100):\n",
    "        results[0][k] =dfATest.measurement_value.values[k]\n",
    "        results[1][k] = predictor.predict([dfATest.peptide.values[k]],allele=m)\n",
    "\n",
    "    MSE[0][i] = ((results[0]-results[1])**2).mean(axis=0) \n",
    "    i=i+1\n",
    "\n",
    "\n"
   ]
  },
  {
   "cell_type": "code",
   "execution_count": 23,
   "metadata": {},
   "outputs": [
    {
     "data": {
      "image/png": "[encoded data removed]",
      "text/plain": [
       "<Figure size 640x480 with 1 Axes>"
      ]
     },
     "metadata": {},
     "output_type": "display_data"
    }
   ],
   "source": [
    "import matplotlib.pyplot as plt; plt.rcdefaults()\n",
    "import numpy as np\n",
    "import matplotlib.pyplot as plt\n",
    "\n",
    "objects = alleleList.Allele\n",
    "y_pos = np.arange(len(objects))\n",
    "\n",
    "plt.bar(y_pos,MSE[0],align='center',alpha = 0.5,width=1,log=True)\n",
    "plt.xticks(y_pos, objects,rotation=90,fontsize=3)\n",
    "plt.ylabel('log_10 of MSE')\n",
    "plt.title('Mean Squared Error')\n",
    "\n",
    "plt.show()"
   ]
  },
  {
   "cell_type": "code",
   "execution_count": null,
   "metadata": {},
   "outputs": [],
   "source": []
  },
  {
   "cell_type": "code",
   "execution_count": null,
   "metadata": {},
   "outputs": [],
   "source": []
  },
  {
   "cell_type": "code",
   "execution_count": null,
   "metadata": {},
   "outputs": [],
   "source": []
  }
 ],
 "metadata": {
  "kernelspec": {
   "display_name": "Python 2",
   "language": "python",
   "name": "python2"
  },
  "language_info": {
   "codemirror_mode": {
    "name": "ipython",
    "version": 2
   },
   "file_extension": ".py",
   "mimetype": "text/x-python",
   "name": "python",
   "nbconvert_exporter": "python",
   "pygments_lexer": "ipython2",
   "version": "2.7.15rc1"
  }
 },
 "nbformat": 4,
 "nbformat_minor": 2
}
